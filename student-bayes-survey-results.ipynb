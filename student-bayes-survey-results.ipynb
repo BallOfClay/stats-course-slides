{
 "cells": [
  {
   "cell_type": "code",
   "execution_count": 2,
   "metadata": {},
   "outputs": [],
   "source": [
    "import numpy as np\n",
    "import matplotlib.pyplot as plt\n",
    "\n",
    "plt.style.use('ggplot')\n",
    "\n",
    "%matplotlib inline"
   ]
  },
  {
   "cell_type": "code",
   "execution_count": 3,
   "metadata": {},
   "outputs": [],
   "source": [
    "survey_data_first_class = np.array([\n",
    "    0.999,\n",
    "    0.999,\n",
    "    0.999*0.98,\n",
    "    0.98,\n",
    "    0.99,\n",
    "    1.0,\n",
    "    0.01,\n",
    "    0.3,\n",
    "    0.02,\n",
    "    0.01,\n",
    "    0.01,\n",
    "    0.1,\n",
    "    0.999,\n",
    "    0.98,\n",
    "    0.999,\n",
    "    0.95,\n",
    "    0.01,\n",
    "    0.3,\n",
    "    0.98,\n",
    "    0.999,\n",
    "    0.99,\n",
    "    0.989,\n",
    "    0.99,\n",
    "    0.99,\n",
    "    0.01 * 0.02,\n",
    "])\n",
    "\n",
    "survey_data_second_class = np.array([\n",
    "    0.001 * 0.001,\n",
    "    0.99,\n",
    "    0.999,\n",
    "    0.5,\n",
    "    0.999,\n",
    "    0.02,\n",
    "    0.999,\n",
    "    0.979,\n",
    "    0.01,\n",
    "    0.2,\n",
    "    0.999,\n",
    "    0.3,\n",
    "    0.99,\n",
    "    0.6,\n",
    "    0.999\n",
    "])"
   ]
  },
  {
   "cell_type": "code",
   "execution_count": 4,
   "metadata": {},
   "outputs": [],
   "source": [
    "def one_dim_scatterplot(data, ax, jitter=0.2, **options):\n",
    "    if jitter:\n",
    "        jitter = np.random.uniform(-jitter, jitter, size=data.shape)\n",
    "    else:\n",
    "        jitter = np.repeat(0.0, len(data))\n",
    "    ax.scatter(data, jitter, **options)\n",
    "    ax.yaxis.set_ticklabels([])\n",
    "    ax.set_ylim([-1, 1])"
   ]
  },
  {
   "cell_type": "code",
   "execution_count": 5,
   "metadata": {},
   "outputs": [
    {
     "data": {
      "text/plain": [
       "<matplotlib.text.Text at 0x10f0e61d0>"
      ]
     },
     "execution_count": 5,
     "metadata": {},
     "output_type": "execute_result"
    },
    {
     "data": {
      "image/png": "[encoded data removed]",
      "text/plain": [
       "<matplotlib.figure.Figure at 0x10ee21650>"
      ]
     },
     "metadata": {},
     "output_type": "display_data"
    }
   ],
   "source": [
    "fig, ax = plt.subplots(2, figsize=(16, 4))\n",
    "\n",
    "one_dim_scatterplot(survey_data_first_class, ax[0])\n",
    "one_dim_scatterplot(survey_data_second_class, ax[1])\n",
    "\n",
    "ax[1].set_xlabel(r'$P \\ ($ Have Disease $\\mid$ Positive Test $)$')\n",
    "ax[0].set_title('Student Estimates of Conditional Probabilities')"
   ]
  },
  {
   "cell_type": "code",
   "execution_count": null,
   "metadata": {
    "collapsed": true
   },
   "outputs": [],
   "source": []
  },
  {
   "cell_type": "code",
   "execution_count": null,
   "metadata": {
    "collapsed": true
   },
   "outputs": [],
   "source": []
  },
  {
   "cell_type": "code",
   "execution_count": null,
   "metadata": {
    "collapsed": true
   },
   "outputs": [],
   "source": []
  },
  {
   "cell_type": "code",
   "execution_count": null,
   "metadata": {
    "collapsed": true
   },
   "outputs": [],
   "source": []
  },
  {
   "cell_type": "code",
   "execution_count": null,
   "metadata": {
    "collapsed": true
   },
   "outputs": [],
   "source": []
  },
  {
   "cell_type": "code",
   "execution_count": null,
   "metadata": {
    "collapsed": true
   },
   "outputs": [],
   "source": []
  },
  {
   "cell_type": "code",
   "execution_count": null,
   "metadata": {
    "collapsed": true
   },
   "outputs": [],
   "source": []
  },
  {
   "cell_type": "code",
   "execution_count": null,
   "metadata": {
    "collapsed": true
   },
   "outputs": [],
   "source": []
  },
  {
   "cell_type": "code",
   "execution_count": 9,
   "metadata": {},
   "outputs": [
    {
     "data": {
      "text/plain": [
       "[<matplotlib.lines.Line2D at 0x10fa34210>]"
      ]
     },
     "execution_count": 9,
     "metadata": {},
     "output_type": "execute_result"
    },
    {
     "data": {
      "image/png": "[encoded data removed]",
      "text/plain": [
       "<matplotlib.figure.Figure at 0x10fa45550>"
      ]
     },
     "metadata": {},
     "output_type": "display_data"
    }
   ],
   "source": [
    "fig, ax = plt.subplots(2, figsize=(16, 4))\n",
    "\n",
    "one_dim_scatterplot(survey_data_first_class, ax[0])\n",
    "one_dim_scatterplot(survey_data_second_class, ax[1])\n",
    "\n",
    "ax[1].set_xlabel(r'$P \\ ($ Have Disease $\\mid$ Positive Test $)$')\n",
    "ax[0].set_title('Student Estimates of Conditional Probabilities')\n",
    "\n",
    "ax[0].plot((0.34, 0.34), (-1, 1), linewidth=5, color=\"grey\")\n",
    "ax[1].plot((0.34, 0.34), (-1, 1), linewidth=5, color=\"grey\")"
   ]
  }
 ],
 "metadata": {
  "anaconda-cloud": {},
  "kernelspec": {
   "display_name": "Python [default]",
   "language": "python",
   "name": "python2"
  },
  "language_info": {
   "codemirror_mode": {
    "name": "ipython",
    "version": 2
   },
   "file_extension": ".py",
   "mimetype": "text/x-python",
   "name": "python",
   "nbconvert_exporter": "python",
   "pygments_lexer": "ipython2",
   "version": "2.7.13"
  }
 },
 "nbformat": 4,
 "nbformat_minor": 1
}
